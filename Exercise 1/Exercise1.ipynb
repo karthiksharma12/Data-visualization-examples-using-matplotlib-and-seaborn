{
 "cells": [
  {
   "cell_type": "markdown",
   "metadata": {},
   "source": [
    "\n",
    "### Creator, KARTHIK SHARMA GUNDEPUDI\n"
   ]
  },
  {
   "cell_type": "code",
   "execution_count": 96,
   "metadata": {},
   "outputs": [],
   "source": [
    "#Import required packages for the assignment\n",
    "import numpy as np\n",
    "import pandas as pd\n",
    "import matplotlib.pyplot as plt\n",
    "import seaborn as sns"
   ]
  },
  {
   "cell_type": "markdown",
   "metadata": {},
   "source": [
    "#### A sample from the salaries data is provided in the file \"ex01.txt\". Plot and appropriate graph to help you derive an inference. You will have to explicitly state your inference what you have found."
   ]
  },
  {
   "cell_type": "code",
   "execution_count": 97,
   "metadata": {},
   "outputs": [
    {
     "data": {
      "text/html": [
       "<div>\n",
       "<style scoped>\n",
       "    .dataframe tbody tr th:only-of-type {\n",
       "        vertical-align: middle;\n",
       "    }\n",
       "\n",
       "    .dataframe tbody tr th {\n",
       "        vertical-align: top;\n",
       "    }\n",
       "\n",
       "    .dataframe thead th {\n",
       "        text-align: right;\n",
       "    }\n",
       "</style>\n",
       "<table border=\"1\" class=\"dataframe\">\n",
       "  <thead>\n",
       "    <tr style=\"text-align: right;\">\n",
       "      <th></th>\n",
       "      <th>Salary</th>\n",
       "      <th>Experience</th>\n",
       "    </tr>\n",
       "  </thead>\n",
       "  <tbody>\n",
       "    <tr>\n",
       "      <th>0</th>\n",
       "      <td>840000</td>\n",
       "      <td>8.7</td>\n",
       "    </tr>\n",
       "    <tr>\n",
       "      <th>1</th>\n",
       "      <td>380000</td>\n",
       "      <td>0.7</td>\n",
       "    </tr>\n",
       "    <tr>\n",
       "      <th>2</th>\n",
       "      <td>490000</td>\n",
       "      <td>1.7</td>\n",
       "    </tr>\n",
       "    <tr>\n",
       "      <th>3</th>\n",
       "      <td>880000</td>\n",
       "      <td>8.1</td>\n",
       "    </tr>\n",
       "    <tr>\n",
       "      <th>4</th>\n",
       "      <td>760000</td>\n",
       "      <td>6.0</td>\n",
       "    </tr>\n",
       "  </tbody>\n",
       "</table>\n",
       "</div>"
      ],
      "text/plain": [
       "   Salary  Experience\n",
       "0  840000         8.7\n",
       "1  380000         0.7\n",
       "2  490000         1.7\n",
       "3  880000         8.1\n",
       "4  760000         6.0"
      ]
     },
     "execution_count": 97,
     "metadata": {},
     "output_type": "execute_result"
    }
   ],
   "source": [
    "#Reading the data from ex01.txt file\n",
    "df = pd.read_csv(\"ex01.txt\",header=None,names=['Salary', 'Experience'])\n",
    "df.head()"
   ]
  },
  {
   "cell_type": "code",
   "execution_count": 98,
   "metadata": {},
   "outputs": [
    {
     "data": {
      "image/png": "[encoded data removed]",
      "text/plain": [
       "<Figure size 432x288 with 1 Axes>"
      ]
     },
     "metadata": {},
     "output_type": "display_data"
    }
   ],
   "source": [
    "# sort the data based on years of experience\n",
    "result_dataset = df.sort_values('Experience')\n",
    "\n",
    "#Use scatter plot to  display the data\n",
    "plt.scatter(result_dataset['Experience'],result_dataset['Salary'])\n",
    "plt.title('Salary vs Experience')\n",
    "plt.xlabel('Experience')\n",
    "plt.ylabel('Salary')\n",
    "sns.regplot(x=df['Experience'],y=df.Salary)\n",
    "plt.show()\n"
   ]
  },
  {
   "cell_type": "markdown",
   "metadata": {},
   "source": [
    "### Inference:"
   ]
  },
  {
   "cell_type": "markdown",
   "metadata": {},
   "source": [
    "We can observe from the scatter plot that as the years of experience increases there is also increase in salary of the employee. It looks like a linear increment."
   ]
  },
  {
   "cell_type": "markdown",
   "metadata": {},
   "source": [
    "#### Analyze the GDP of the country from the data in the file \"ex02.txt\". Use the appropriate plot to help you derive an inference. You will have to explicitly state your inference what you have found."
   ]
  },
  {
   "cell_type": "code",
   "execution_count": 99,
   "metadata": {},
   "outputs": [
    {
     "data": {
      "text/html": [
       "<div>\n",
       "<style scoped>\n",
       "    .dataframe tbody tr th:only-of-type {\n",
       "        vertical-align: middle;\n",
       "    }\n",
       "\n",
       "    .dataframe tbody tr th {\n",
       "        vertical-align: top;\n",
       "    }\n",
       "\n",
       "    .dataframe thead th {\n",
       "        text-align: right;\n",
       "    }\n",
       "</style>\n",
       "<table border=\"1\" class=\"dataframe\">\n",
       "  <thead>\n",
       "    <tr style=\"text-align: right;\">\n",
       "      <th></th>\n",
       "      <th>Year</th>\n",
       "      <th>GDP</th>\n",
       "    </tr>\n",
       "  </thead>\n",
       "  <tbody>\n",
       "    <tr>\n",
       "      <th>0</th>\n",
       "      <td>2011</td>\n",
       "      <td>8929.5</td>\n",
       "    </tr>\n",
       "    <tr>\n",
       "      <th>1</th>\n",
       "      <td>2012</td>\n",
       "      <td>8289.1</td>\n",
       "    </tr>\n",
       "    <tr>\n",
       "      <th>2</th>\n",
       "      <td>2013</td>\n",
       "      <td>10009.9</td>\n",
       "    </tr>\n",
       "    <tr>\n",
       "      <th>3</th>\n",
       "      <td>2014</td>\n",
       "      <td>11453.6</td>\n",
       "    </tr>\n",
       "    <tr>\n",
       "      <th>4</th>\n",
       "      <td>2015</td>\n",
       "      <td>13108.3</td>\n",
       "    </tr>\n",
       "  </tbody>\n",
       "</table>\n",
       "</div>"
      ],
      "text/plain": [
       "   Year      GDP\n",
       "0  2011   8929.5\n",
       "1  2012   8289.1\n",
       "2  2013  10009.9\n",
       "3  2014  11453.6\n",
       "4  2015  13108.3"
      ]
     },
     "execution_count": 99,
     "metadata": {},
     "output_type": "execute_result"
    }
   ],
   "source": [
    "#Read the Data from ex02.txt file\n",
    "df = pd.read_csv(\"ex02.txt\",header=None,names=['Year', 'GDP'])\n",
    "df.head()"
   ]
  },
  {
   "cell_type": "code",
   "execution_count": 100,
   "metadata": {},
   "outputs": [
    {
     "data": {
      "image/png": "[encoded data removed]",
      "text/plain": [
       "<Figure size 432x288 with 1 Axes>"
      ]
     },
     "metadata": {},
     "output_type": "display_data"
    }
   ],
   "source": [
    "#plot the bar and line graph to understand the data\n",
    "fig = plt.figure()\n",
    "ax = fig.add_axes([0,0,1,1])\n",
    "ax.bar(df.Year,df.GDP,width=0.75,facecolor='orange',edgecolor='black')\n",
    "plt.xticks(df.Year, fontsize=12, rotation=90)\n",
    "ax.plot(df.Year, df.GDP, color='b')\n",
    "ax.set_title('GDP Share for Each Year 2011-2019',fontsize=20)\n",
    "ax.set_xlabel('Year',fontsize=18)\n",
    "ax.set_ylabel('GDP',fontsize=18)\n",
    "plt.show()"
   ]
  },
  {
   "cell_type": "markdown",
   "metadata": {},
   "source": [
    "### Inference:"
   ]
  },
  {
   "cell_type": "markdown",
   "metadata": {},
   "source": [
    "It is observed from the bar graph that the GDP decreased from 2011 to 2012. From 2012 there is increase in GDP year after year till 2016. GDP remains constant for year 2016 and 2017 and for 2018 there is slight decline in GDP and thereafter it started increasing again for the year 2019."
   ]
  },
  {
   "cell_type": "markdown",
   "metadata": {},
   "source": [
    "#### The data of Oxygen and Carbon Levels of 2 cities over a period of time are given in the file \"ex03.txt\". Use the appropriate plot to help you derive an inference. You will have to explicitly state your inference what you have found."
   ]
  },
  {
   "cell_type": "code",
   "execution_count": 103,
   "metadata": {},
   "outputs": [
    {
     "data": {
      "text/html": [
       "<div>\n",
       "<style scoped>\n",
       "    .dataframe tbody tr th:only-of-type {\n",
       "        vertical-align: middle;\n",
       "    }\n",
       "\n",
       "    .dataframe tbody tr th {\n",
       "        vertical-align: top;\n",
       "    }\n",
       "\n",
       "    .dataframe thead th {\n",
       "        text-align: right;\n",
       "    }\n",
       "</style>\n",
       "<table border=\"1\" class=\"dataframe\">\n",
       "  <thead>\n",
       "    <tr style=\"text-align: right;\">\n",
       "      <th></th>\n",
       "      <th>City</th>\n",
       "      <th>Year</th>\n",
       "      <th>O2</th>\n",
       "      <th>CO2</th>\n",
       "    </tr>\n",
       "  </thead>\n",
       "  <tbody>\n",
       "    <tr>\n",
       "      <th>0</th>\n",
       "      <td>delhi</td>\n",
       "      <td>2011</td>\n",
       "      <td>24.2</td>\n",
       "      <td>0.04</td>\n",
       "    </tr>\n",
       "    <tr>\n",
       "      <th>1</th>\n",
       "      <td>Bangalore</td>\n",
       "      <td>2011</td>\n",
       "      <td>25.2</td>\n",
       "      <td>0.03</td>\n",
       "    </tr>\n",
       "    <tr>\n",
       "      <th>2</th>\n",
       "      <td>delhi</td>\n",
       "      <td>2013</td>\n",
       "      <td>25.3</td>\n",
       "      <td>0.05</td>\n",
       "    </tr>\n",
       "    <tr>\n",
       "      <th>3</th>\n",
       "      <td>Bangalore</td>\n",
       "      <td>2013</td>\n",
       "      <td>24.4</td>\n",
       "      <td>0.04</td>\n",
       "    </tr>\n",
       "    <tr>\n",
       "      <th>4</th>\n",
       "      <td>delhi</td>\n",
       "      <td>2015</td>\n",
       "      <td>26.1</td>\n",
       "      <td>0.06</td>\n",
       "    </tr>\n",
       "  </tbody>\n",
       "</table>\n",
       "</div>"
      ],
      "text/plain": [
       "        City  Year    O2   CO2\n",
       "0      delhi  2011  24.2  0.04\n",
       "1  Bangalore  2011  25.2  0.03\n",
       "2      delhi  2013  25.3  0.05\n",
       "3  Bangalore  2013  24.4  0.04\n",
       "4      delhi  2015  26.1  0.06"
      ]
     },
     "execution_count": 103,
     "metadata": {},
     "output_type": "execute_result"
    }
   ],
   "source": [
    "#Read the Data from ex03.txt file\n",
    "df = pd.read_csv(\"ex03.txt\")\n",
    "df.head()"
   ]
  },
  {
   "cell_type": "code",
   "execution_count": 104,
   "metadata": {},
   "outputs": [
    {
     "data": {
      "image/png": "[encoded data removed]",
      "text/plain": [
       "<Figure size 1080x1296 with 2 Axes>"
      ]
     },
     "metadata": {},
     "output_type": "display_data"
    }
   ],
   "source": [
    "#Use subplots in order to compare the oxygen and Carbon levels seperately between two cities \n",
    "df_bangalore=df[df['City']=='Bangalore']\n",
    "df_delhi=df[df['City']=='delhi']\n",
    "\n",
    "#Obtaining a Figure of size 15,18\n",
    "fig = plt.figure(figsize=(15,18))\n",
    "\n",
    "#Create first subplot for Oxygen Level\n",
    "ax1=fig.add_subplot(2,1,1)\n",
    "\n",
    "#Setting position for both the bars such that they are aligned one after the other\n",
    "_x=np.arange(len(df_bangalore['Year']))\n",
    "_y=[_y+0.25 for _y in _x]\n",
    "\n",
    "#Plot the bar with required parameters\n",
    "plt.bar(_x,df_bangalore['O2'],width=0.25,alpha=0.8,color='#53c653',align='center',label='Bangalore')\n",
    "plt.bar([_y+0.25 for _y in _x],df_delhi['O2'],width=0.25,alpha=0.8,color='#e68a00',align='center',label=\"Delhi\")\n",
    "\n",
    "# Set the chart's title\n",
    "ax1.set_title('O2 Score for Delhi and Banglore')\n",
    "\n",
    "# Set the y axis label\n",
    "ax1.set_ylabel('O2 Score')\n",
    "\n",
    "# Set the x axis label\n",
    "ax1.set_xlabel('Year')\n",
    "\n",
    "# Set the position of the x ticks\n",
    "ax1.set_xticks([p + 0.5 * 0.25 for p in _x])\n",
    "\n",
    "# Set the labels for the x ticks\n",
    "ax1.set_xticklabels(df_bangalore['Year'])\n",
    "\n",
    "# Setting the x-axis and y-axis limits\n",
    "plt.xlim(min(_x)-0.25, max(_x)+0.25*4)\n",
    "\n",
    "# Adding the legend\n",
    "plt.legend(loc='upper left')\n",
    "\n",
    "#Create second subplot for Carbon Level\n",
    "ax2=fig.add_subplot(2,1,2)\n",
    "\n",
    "#Setting position for both the bars such that they are aligned one after the other\n",
    "_x=np.arange(len(df_bangalore['Year']))\n",
    "_y=[_y+0.25 for _y in _x]\n",
    "\n",
    "\n",
    "#Plot the bar with required parameters\n",
    "plt.bar(_x,df_bangalore['CO2'],width=0.25,alpha=0.8,color='#53c653',align='center',label='Bangalore')\n",
    "plt.bar([_y+0.25 for _y in _x],df_delhi['CO2'],width=0.25,alpha=0.8,color='#e68a00',align='center',label=\"Delhi\")\n",
    "\n",
    "# Set the chart's title\n",
    "ax2.set_title('CO2 Score for Delhi and Banglore')\n",
    "\n",
    "# Set the y axis label\n",
    "ax2.set_ylabel('CO2 Score')\n",
    "\n",
    "# Set the x axis label\n",
    "ax2.set_xlabel('Year')\n",
    "\n",
    "# Set the position of the x ticks\n",
    "ax2.set_xticks([p + 0.5 * 0.25 for p in _x])\n",
    "\n",
    "# Set the labels for the x ticks\n",
    "ax2.set_xticklabels(df_bangalore['Year'])\n",
    "\n",
    "# Setting the x-axis and y-axis limits\n",
    "plt.xlim(min(_x)-0.25, max(_x)+0.25*4)\n",
    "\n",
    "# Adding the legend and showing the plot\n",
    "plt.legend(loc='upper left')\n",
    "plt.show()\n"
   ]
  },
  {
   "cell_type": "markdown",
   "metadata": {},
   "source": [
    "### Inference:"
   ]
  },
  {
   "cell_type": "markdown",
   "metadata": {},
   "source": [
    "-  From the O2 graph it is observed that Oxygen levels of Delhi keeps on increasing from the year 2013 whereas Bangalore seems to remain the same.\n",
    "\n",
    "-  From the CO2 graph it is observed that Delhi's carbon level keeps on increasing year after the year, whereas for Bangalore the carbon level decreased form 2013 to 2015 and from 2015 it started increasing slowly."
   ]
  },
  {
   "cell_type": "markdown",
   "metadata": {},
   "source": [
    "#### The data of number of enrollments to various streams are shown for 2 successive years in the file \"ex04.txt\". Use the appropriate plot to help you derive an inference. You will have to explicitly state your inference what you have found and state the reason of the significance of the particular plot used."
   ]
  },
  {
   "cell_type": "code",
   "execution_count": 105,
   "metadata": {},
   "outputs": [
    {
     "data": {
      "text/html": [
       "<div>\n",
       "<style scoped>\n",
       "    .dataframe tbody tr th:only-of-type {\n",
       "        vertical-align: middle;\n",
       "    }\n",
       "\n",
       "    .dataframe tbody tr th {\n",
       "        vertical-align: top;\n",
       "    }\n",
       "\n",
       "    .dataframe thead th {\n",
       "        text-align: right;\n",
       "    }\n",
       "</style>\n",
       "<table border=\"1\" class=\"dataframe\">\n",
       "  <thead>\n",
       "    <tr style=\"text-align: right;\">\n",
       "      <th></th>\n",
       "      <th>Stream</th>\n",
       "      <th>2018</th>\n",
       "      <th>2019</th>\n",
       "    </tr>\n",
       "  </thead>\n",
       "  <tbody>\n",
       "    <tr>\n",
       "      <th>0</th>\n",
       "      <td>Basic Sciences</td>\n",
       "      <td>23764</td>\n",
       "      <td>17213</td>\n",
       "    </tr>\n",
       "    <tr>\n",
       "      <th>1</th>\n",
       "      <td>Engineering</td>\n",
       "      <td>66734</td>\n",
       "      <td>64398</td>\n",
       "    </tr>\n",
       "    <tr>\n",
       "      <th>2</th>\n",
       "      <td>Arts</td>\n",
       "      <td>18033</td>\n",
       "      <td>12383</td>\n",
       "    </tr>\n",
       "    <tr>\n",
       "      <th>3</th>\n",
       "      <td>Commerce</td>\n",
       "      <td>50876</td>\n",
       "      <td>63872</td>\n",
       "    </tr>\n",
       "  </tbody>\n",
       "</table>\n",
       "</div>"
      ],
      "text/plain": [
       "           Stream   2018   2019\n",
       "0  Basic Sciences  23764  17213\n",
       "1     Engineering  66734  64398\n",
       "2            Arts  18033  12383\n",
       "3        Commerce  50876  63872"
      ]
     },
     "execution_count": 105,
     "metadata": {},
     "output_type": "execute_result"
    }
   ],
   "source": [
    "#Read the Data from ex04.txt file\n",
    "df = pd.read_csv(\"ex04.txt\")\n",
    "df.head(10)"
   ]
  },
  {
   "cell_type": "code",
   "execution_count": 106,
   "metadata": {},
   "outputs": [
    {
     "data": {
      "image/png": "[encoded data removed]",
      "text/plain": [
       "<Figure size 1080x576 with 1 Axes>"
      ]
     },
     "metadata": {},
     "output_type": "display_data"
    }
   ],
   "source": [
    "#Obtaining a Figure of size 15,8\n",
    "fig, ax = plt.subplots(figsize=(15,8))\n",
    "\n",
    "#Setting position for both the bars such that they are aligned one after the other\n",
    "_x=np.arange(len(df['Stream']))\n",
    "_y=[_y+0.25 for _y in _x]\n",
    "\n",
    "#Plot the bar with required parameters\n",
    "plt.bar(_x,df['2018'],width=0.25,alpha=0.8,color='#EE3224',align='center',label='2018')\n",
    "plt.bar([_y+0.25 for _y in _x],df['2019'],width=0.25,alpha=0.8,color='#F78F1E',align='center',label=\"2019\")\n",
    "\n",
    "# Set the chart's title\n",
    "ax.set_title('Stream wise enrollments for the years 2018 & 2019')\n",
    "\n",
    "# Set the y axis label\n",
    "ax.set_ylabel('Enrollments')\n",
    "\n",
    "# Set the x axis label\n",
    "ax.set_xlabel('Streams')\n",
    "\n",
    "# Set the position of the x ticks\n",
    "ax.set_xticks([p + 0.5 * 0.25 for p in _x])\n",
    "\n",
    "# Set the labels for the x ticks\n",
    "ax.set_xticklabels(df['Stream'])\n",
    "\n",
    "# Setting the x-axis and y-axis limits\n",
    "plt.xlim(min(_x)-0.25, max(_x)+0.25*4)\n",
    "\n",
    "# Adding the legend and showing the plot\n",
    "plt.legend(loc='upper left')\n",
    "plt.show()"
   ]
  },
  {
   "cell_type": "markdown",
   "metadata": {},
   "source": [
    "### Inference"
   ]
  },
  {
   "cell_type": "markdown",
   "metadata": {},
   "source": [
    "-  From the above graph it is observed that the enrollments for Commerce has increased drastically for the year 2019 whereas other streams enrollments are decreased.<br>\n",
    "-  It is also observed that Engineering is the stream with highest enrollments for both the years whereas Arts is the stream with lowest enrollments. "
   ]
  },
  {
   "cell_type": "markdown",
   "metadata": {},
   "source": [
    "#### The number of tweets done for hashtag #dvicourse is provided in the file \"ex05.txt\" file. Use the appropriate plot to display them in form of 4 quartiles 0-25, 26-50, 51-75, 75-100 and derive an inference. State explicitly the inference you have derived."
   ]
  },
  {
   "cell_type": "code",
   "execution_count": 15,
   "metadata": {},
   "outputs": [
    {
     "data": {
      "text/html": [
       "<div>\n",
       "<style scoped>\n",
       "    .dataframe tbody tr th:only-of-type {\n",
       "        vertical-align: middle;\n",
       "    }\n",
       "\n",
       "    .dataframe tbody tr th {\n",
       "        vertical-align: top;\n",
       "    }\n",
       "\n",
       "    .dataframe thead th {\n",
       "        text-align: right;\n",
       "    }\n",
       "</style>\n",
       "<table border=\"1\" class=\"dataframe\">\n",
       "  <thead>\n",
       "    <tr style=\"text-align: right;\">\n",
       "      <th></th>\n",
       "      <th>No_of_Tweets</th>\n",
       "    </tr>\n",
       "  </thead>\n",
       "  <tbody>\n",
       "    <tr>\n",
       "      <th>0</th>\n",
       "      <td>95</td>\n",
       "    </tr>\n",
       "    <tr>\n",
       "      <th>1</th>\n",
       "      <td>85</td>\n",
       "    </tr>\n",
       "    <tr>\n",
       "      <th>2</th>\n",
       "      <td>22</td>\n",
       "    </tr>\n",
       "    <tr>\n",
       "      <th>3</th>\n",
       "      <td>55</td>\n",
       "    </tr>\n",
       "    <tr>\n",
       "      <th>4</th>\n",
       "      <td>62</td>\n",
       "    </tr>\n",
       "  </tbody>\n",
       "</table>\n",
       "</div>"
      ],
      "text/plain": [
       "   No_of_Tweets\n",
       "0            95\n",
       "1            85\n",
       "2            22\n",
       "3            55\n",
       "4            62"
      ]
     },
     "execution_count": 15,
     "metadata": {},
     "output_type": "execute_result"
    }
   ],
   "source": [
    "#Read the Data from ex05.txt file\n",
    "df = pd.read_csv(\"./ex05.txt\",header=None,names=['No_of_Tweets'])\n",
    "df.head()"
   ]
  },
  {
   "cell_type": "code",
   "execution_count": 16,
   "metadata": {},
   "outputs": [
    {
     "data": {
      "image/png": "[encoded data removed]",
      "text/plain": [
       "<Figure size 720x432 with 1 Axes>"
      ]
     },
     "metadata": {},
     "output_type": "display_data"
    }
   ],
   "source": [
    "#Using Histogram to repesent the data in Quartiles\n",
    "sns.set_style(\"whitegrid\")\n",
    "\n",
    "#Create a figure of size 10,6\n",
    "fig=plt.figure(figsize=(10,6))\n",
    "\n",
    "#create 4 bins each of size 25\n",
    "bin = [0,25,50,75,100]\n",
    "\n",
    "#plot the histogram with KDE set to false\n",
    "sns.distplot(df['No_of_Tweets'],bins=bin,kde=False)\n",
    "\n",
    "#Set Y Axis label\n",
    "plt.ylabel('Frequency', fontsize=13)\n",
    "\n",
    "#Set X Axis label\n",
    "plt.xlabel('Number of Tweets', fontsize=13)\n",
    "\n",
    "#Set X Ticks\n",
    "plt.xticks(bin)\n",
    "\n",
    "#Set Title for the graph and display it\n",
    "plt.title('Number of tweets for each quartile', fontsize=17)\n",
    "plt.show()"
   ]
  },
  {
   "cell_type": "markdown",
   "metadata": {},
   "source": [
    "### Inference:"
   ]
  },
  {
   "cell_type": "markdown",
   "metadata": {},
   "source": [
    "From the above graph it is observed that the Quartile 3 (51-75) is having the maximum number of tweets followed by Quartile 1 (0-25) whereas Quartile 2 (26-50) is having least number of tweets."
   ]
  },
  {
   "cell_type": "code",
   "execution_count": null,
   "metadata": {},
   "outputs": [],
   "source": []
  }
 ],
 "metadata": {
  "kernelspec": {
   "display_name": "Python 3",
   "language": "python",
   "name": "python3"
  },
  "language_info": {
   "codemirror_mode": {
    "name": "ipython",
    "version": 3
   },
   "file_extension": ".py",
   "mimetype": "text/x-python",
   "name": "python",
   "nbconvert_exporter": "python",
   "pygments_lexer": "ipython3",
   "version": "3.7.0"
  }
 },
 "nbformat": 4,
 "nbformat_minor": 2
}
